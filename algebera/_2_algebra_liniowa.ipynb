{
  "nbformat": 4,
  "nbformat_minor": 0,
  "metadata": {
    "colab": {
      "name": "-2_algebra_liniowa.ipynb",
      "provenance": [],
      "authorship_tag": "ABX9TyPIi6J+umF2cysm+ckdT1y2",
      "include_colab_link": true
    },
    "kernelspec": {
      "name": "python3",
      "display_name": "Python 3"
    }
  },
  "cells": [
    {
      "cell_type": "markdown",
      "metadata": {
        "id": "view-in-github",
        "colab_type": "text"
      },
      "source": [
        "<a href=\"https://colab.research.google.com/github/erSASD/machine_learning/blob/main/algebera/_2_algebra_liniowa.ipynb\" target=\"_parent\"><img src=\"https://colab.research.google.com/assets/colab-badge.svg\" alt=\"Open In Colab\"/></a>"
      ]
    },
    {
      "cell_type": "code",
      "metadata": {
        "id": "PQqE2wodoBAE"
      },
      "source": [
        ""
      ],
      "execution_count": null,
      "outputs": []
    },
    {
      "cell_type": "markdown",
      "metadata": {
        "id": "hdI3SIKKoWF3"
      },
      "source": [
        "### NumPy\r\n",
        ">Strona biblioteki: [https://numpy.org/](https://numpy.org/)  \r\n",
        ">Dokumentacja: [https://numpy.org/doc/](https://numpy.org/doc/)  \r\n",
        ">\r\n",
        ">Podstawowa biblioteka do obliczeń numerycznych w języku Python.\r\n",
        ">\r\n",
        ">Aby zainstalować bibliotekę NumPy, użyj polecenia poniżej:\r\n",
        "```\r\n",
        "pip install numpy\r\n",
        "```\r\n",
        "\r\n",
        "### Spis treści:\r\n",
        "1. [Norma wektora, długość wektora w $R^{2}$](#a1)\r\n",
        "2. [Norma euklidesowa $R^{n}$](#a2)\r\n",
        "3. [Odległóść dwóch punktów na płaszczyźnie](#a3)\r\n",
        "4. [Odległóść dwóch punktów w przestrzeni $R^{n}$](#a4)\r\n",
        "5. [Mnożenie macierzy](#a5)\r\n",
        "6. [Wyznacznik macierzy](#a6)\r\n",
        "7. [Ślad macierzy](#a7)\r\n",
        "8. [Macierz jednostkowa](#a8)\r\n",
        "9. [ Macierz odwrotna](#a9)\r\n",
        "10. [Macierz transponowana](#a10)\r\n",
        "11. [Rozwiązywanie układów równań](#a11)\r\n",
        "\r\n",
        "\r\n",
        "\r\n"
      ]
    },
    {
      "cell_type": "markdown",
      "metadata": {
        "id": "dZlt24FAob9D"
      },
      "source": [
        "### <a name='a1'></a> Norma wektora, długość wektora w $R^{2}$\r\n",
        "\r\n",
        "${\\mathbf  {v}} = [v_{1}, v_{2}]$   \r\n",
        "$\\left\\|{\\mathbf  {v}}\\right\\|={\\sqrt  {v_{1}^{2}+v_{2}^{2}}}$"
      ]
    },
    {
      "cell_type": "code",
      "metadata": {
        "id": "pUkzB7cFojYY"
      },
      "source": [
        "import numpy as np"
      ],
      "execution_count": 1,
      "outputs": []
    },
    {
      "cell_type": "code",
      "metadata": {
        "id": "O0Hnb4vnrNdF"
      },
      "source": [
        "v1 = np.array([0, 4])"
      ],
      "execution_count": 3,
      "outputs": []
    },
    {
      "cell_type": "code",
      "metadata": {
        "colab": {
          "base_uri": "https://localhost:8080/"
        },
        "id": "UFdM6dYPrW-y",
        "outputId": "529679fa-8662-4d25-96b4-ed26c9424e8f"
      },
      "source": [
        "np.linalg.norm(v1)"
      ],
      "execution_count": 4,
      "outputs": [
        {
          "output_type": "execute_result",
          "data": {
            "text/plain": [
              "4.0"
            ]
          },
          "metadata": {
            "tags": []
          },
          "execution_count": 4
        }
      ]
    },
    {
      "cell_type": "markdown",
      "metadata": {
        "id": "VUSrl-xxqh5c"
      },
      "source": [
        "### <a name='a2'></a> Norma euklidesowa w $R^{n}$\r\n",
        "\r\n",
        "$\\left\\|{\\mathbf  {v}}\\right\\|={\\sqrt  {v_{1}^{2}+v_{2}^{2}+\\cdots +v_{n}^{2}}}$"
      ]
    },
    {
      "cell_type": "code",
      "metadata": {
        "id": "LGgjMxzfrik6"
      },
      "source": [
        "v2 = np.array([-10, 10, 13])"
      ],
      "execution_count": 5,
      "outputs": []
    },
    {
      "cell_type": "code",
      "metadata": {
        "colab": {
          "base_uri": "https://localhost:8080/"
        },
        "id": "CJ6fckrLroOd",
        "outputId": "6536771e-4711-4d18-be9e-5781af3c9b15"
      },
      "source": [
        "np.linalg.norm(v2)"
      ],
      "execution_count": 6,
      "outputs": [
        {
          "output_type": "execute_result",
          "data": {
            "text/plain": [
              "19.209372712298546"
            ]
          },
          "metadata": {
            "tags": []
          },
          "execution_count": 6
        }
      ]
    },
    {
      "cell_type": "markdown",
      "metadata": {
        "id": "T2_9kIMgqipq"
      },
      "source": [
        "### <a name='a3'></a> Odległóść dwóch punktów na płaszczyźnie\r\n"
      ]
    },
    {
      "cell_type": "code",
      "metadata": {
        "colab": {
          "base_uri": "https://localhost:8080/"
        },
        "id": "kVV2ccavsCIc",
        "outputId": "50249b9a-de0c-4eec-8a6f-e1273707f8be"
      },
      "source": [
        "p = np.array([3,0])\r\n",
        "q = np.array([0,4])\r\n",
        "np.linalg.norm(p-q)"
      ],
      "execution_count": 7,
      "outputs": [
        {
          "output_type": "execute_result",
          "data": {
            "text/plain": [
              "5.0"
            ]
          },
          "metadata": {
            "tags": []
          },
          "execution_count": 7
        }
      ]
    },
    {
      "cell_type": "markdown",
      "metadata": {
        "id": "dApwGuOfqpPz"
      },
      "source": [
        "### <a name='a4'></a> Odległóść dwóch punktów w przestrzeni $R^{n}$\r\n"
      ]
    },
    {
      "cell_type": "markdown",
      "metadata": {
        "id": "J9BFBMfmqsGq"
      },
      "source": [
        " \\begin{aligned}d(\\mathbf {p} ,\\mathbf {q} )=d(\\mathbf {q} ,\\mathbf {p} )&={\\sqrt {(q_{1}-p_{1})^{2}+(q_{2}-p_{2})^{2}+\\cdots +(q_{n}-p_{n})^{2}}}\\\\[8pt]&={\\sqrt {\\sum _{i=1}^{n}(q_{i}-p_{i})^{2}}}\\end{aligned}"
      ]
    },
    {
      "cell_type": "code",
      "metadata": {
        "colab": {
          "base_uri": "https://localhost:8080/"
        },
        "id": "HXseUMAKqvX0",
        "outputId": "b7fd944f-a2b2-4c4e-fbdc-313aa1b20829"
      },
      "source": [
        "p = np.array([3,0, 1])\r\n",
        "q = np.array([0,4, 2])\r\n",
        "np.linalg.norm(p-q)"
      ],
      "execution_count": 8,
      "outputs": [
        {
          "output_type": "execute_result",
          "data": {
            "text/plain": [
              "5.0990195135927845"
            ]
          },
          "metadata": {
            "tags": []
          },
          "execution_count": 8
        }
      ]
    },
    {
      "cell_type": "markdown",
      "metadata": {
        "id": "owEHr2lNqv0b"
      },
      "source": [
        "### <a name='a5'></a> Mnożenie macierzy\r\n",
        "\r\n",
        "\r\n",
        "\r\n",
        "$${A} ={\\begin{bmatrix}a_{11}&a_{12}&\\cdots &a_{1n}\\\\a_{21}&a_{22}&\\cdots &a_{2n}\\\\\\vdots &\\vdots &\\ddots &\\vdots \\\\a_{m1}&a_{m2}&\\cdots &a_{mn}\\\\\\end{bmatrix}}$$\r\n",
        "A - macierz wymairu $m\\ x\\ n$\r\n",
        "\r\n",
        "$$ {B} ={\\begin{bmatrix}b_{11}&b_{12}&\\cdots &b_{1p}\\\\b_{21}&b_{22}&\\cdots &b_{2p}\\\\\\vdots &\\vdots &\\ddots &\\vdots \\\\b_{n1}&b_{n2}&\\cdots &b_{np}\\\\\\end{bmatrix}}$$\r\n",
        "B - macierz wymairu $n\\ x\\ p$\r\n",
        "\r\n",
        "$$C = AB$$ \r\n",
        "C - macierz wymiaru $m\\ x\\ p$  \r\n",
        "Aby móc pomnożyć dwie macierze liczba liczba kolumn w lewej macierzy musi zgadzać się z liczbą wierszy prawej macierzy.\r\n",
        "\r\n",
        "Mnożenie macierzy nie jest przemienne! Tzn. $$AB \\neq BA$$\r\n",
        "\r\n",
        "\r\n"
      ]
    },
    {
      "cell_type": "code",
      "metadata": {
        "id": "BVILMDRuqzfj"
      },
      "source": [
        ""
      ],
      "execution_count": null,
      "outputs": []
    },
    {
      "cell_type": "markdown",
      "metadata": {
        "id": "dCO4_pHwqz6z"
      },
      "source": [
        "### Przykład 1\r\n",
        "$ X = \\begin{bmatrix}5&3\\\\3&9\\end{bmatrix}$, $ Y= \\begin{bmatrix}1\\\\-1\\end{bmatrix} $  \r\n",
        "$X$ macierz 2x2  \r\n",
        "$Y$ macierz 2x1\r\n",
        "$$Z = X \\cdot Y = \\begin{bmatrix}5&3\\\\3&9\\end{bmatrix} \\cdot \\begin{bmatrix}1\\\\-1\\end{bmatrix} = \\begin{bmatrix}2\\\\-6\\end{bmatrix}$$\r\n",
        "$Z$ macierz 2x1\r\n"
      ]
    },
    {
      "cell_type": "code",
      "metadata": {
        "colab": {
          "base_uri": "https://localhost:8080/"
        },
        "id": "Izb56PGeyacX",
        "outputId": "4171e096-66ca-4d5f-cadb-5e44c06b3d81"
      },
      "source": [
        "x = np.array([[5,3], [3,9]])\r\n",
        "y = [[1], [-1]]\r\n",
        "z = np.dot(x,y)\r\n",
        "z"
      ],
      "execution_count": 9,
      "outputs": [
        {
          "output_type": "execute_result",
          "data": {
            "text/plain": [
              "array([[ 2],\n",
              "       [-6]])"
            ]
          },
          "metadata": {
            "tags": []
          },
          "execution_count": 9
        }
      ]
    },
    {
      "cell_type": "markdown",
      "metadata": {
        "id": "sqjrQEBmq4hq"
      },
      "source": [
        "### Przykład 2\r\n",
        "$X = \\begin{bmatrix}2&-1&3\\\\3&1&0\\end{bmatrix}$, $Y = \\begin{bmatrix}2&1&-1\\\\0&-1&2\\\\3&2&0\\end{bmatrix}$\r\n",
        "\r\n",
        "$X$ macierz 2x3  \r\n",
        "$Y$ macierz 3x3\r\n",
        "$$Z = X \\cdot Y =  \\begin{bmatrix}2&-1&3\\\\3&1&0\\end{bmatrix} \\cdot \\begin{bmatrix}2&1&-1\\\\0&-1&2\\\\3&2&0\\end{bmatrix} = \\begin{bmatrix}13&9&-4\\\\6&2&-1\\end{bmatrix}$$\r\n",
        "$Z$ macierz 2x3"
      ]
    },
    {
      "cell_type": "code",
      "metadata": {
        "colab": {
          "base_uri": "https://localhost:8080/"
        },
        "id": "5h9ixg2Fy5HA",
        "outputId": "1f51d382-8a82-4392-ca8c-d4f18fed00c6"
      },
      "source": [
        "x = np.array([[2,-1, 3], [3,1, 0 ]])\r\n",
        "y = [[2,1 ,-1], [0, -1, 2], [3,2,0]]\r\n",
        "z = np.dot(x,y)\r\n",
        "z"
      ],
      "execution_count": 10,
      "outputs": [
        {
          "output_type": "execute_result",
          "data": {
            "text/plain": [
              "array([[13,  9, -4],\n",
              "       [ 6,  2, -1]])"
            ]
          },
          "metadata": {
            "tags": []
          },
          "execution_count": 10
        }
      ]
    },
    {
      "cell_type": "markdown",
      "metadata": {
        "id": "X_AGSJ6aq-yL"
      },
      "source": [
        " <a name='a6'></a> Wyznacznik macierzy\r\n",
        "\r\n",
        "$${\\displaystyle A={\\begin{bmatrix}a_{11}&a_{12}&\\dots &a_{1n}\\\\a_{21}&a_{22}&\\dots &a_{2n}\\\\\\vdots &\\vdots &\\ddots &\\vdots \\\\a_{n1}&a_{n2}&\\dots &a_{nn}\\end{bmatrix}}}$$\r\n",
        "$A$ - macierz wymiaru nxn\r\n",
        "\r\n",
        "#### Oznaczenia:\r\n",
        "\r\n",
        "${\\displaystyle |A|=\\left|{\\begin{array}{c}a_{11}&a_{12}&\\dots &a_{1n}\\\\a_{21}&a_{22}&\\dots &a_{2n}\\\\\\vdots &\\vdots &\\ddots &\\vdots \\\\a_{n1}&a_{n2}&\\dots &a_{nn}\\end{array}}\\right|} $  lub  $ {\\displaystyle \\det A=\\det {\\begin{bmatrix}a_{11}&a_{12}&\\dots &a_{1n}\\\\a_{21}&a_{22}&\\dots &a_{2n}\\\\\\vdots &\\vdots &\\ddots &\\vdots \\\\a_{n1}&a_{n2}&\\dots &a_{nn}\\end{bmatrix}}}$\r\n",
        "\r\n",
        "#### Przykład:\r\n",
        "${\\displaystyle \\det A={\\begin{vmatrix}a_{11}&a_{12}\\\\a_{21}&a_{22}\\end{vmatrix}}=a_{11}a_{22}-a_{12}a_{21}}$\r\n",
        "\r\n",
        "${\\displaystyle \\det A={\\begin{vmatrix}a_{11}&a_{12}&a_{13}\\\\a_{21}&a_{22}&a_{23}\\\\a_{31}&a_{32}&a_{33}\\end{vmatrix}}=a_{11}a_{22}a_{33}+a_{21}a_{32}a_{13}+a_{31}a_{12}a_{23}-a_{21}a_{12}a_{33}-a_{11}a_{32}a_{23}-a_{31}a_{22}a_{13}}$\r\n",
        "\r\n",
        "${\\displaystyle \\det A={\\begin{vmatrix}2&4\\\\-1&3\\end{vmatrix}}=2\\cdot3-4\\cdot(-1)} = 6 + 4 = 10 $\r\n"
      ]
    },
    {
      "cell_type": "code",
      "metadata": {
        "colab": {
          "base_uri": "https://localhost:8080/"
        },
        "id": "vUsYqLWuzeWC",
        "outputId": "3ba485bc-ccea-4909-a84a-49936594b0bf"
      },
      "source": [
        "A = np.array([[2,4], [-1,3]])\r\n",
        "round(np.linalg.det(A))"
      ],
      "execution_count": 12,
      "outputs": [
        {
          "output_type": "execute_result",
          "data": {
            "text/plain": [
              "10"
            ]
          },
          "metadata": {
            "tags": []
          },
          "execution_count": 12
        }
      ]
    },
    {
      "cell_type": "markdown",
      "metadata": {
        "id": "ZqENXk9trEQL"
      },
      "source": [
        "### <a name='a7'></a> Ślad macierzy\r\n",
        "\r\n",
        "$${\\displaystyle A={\\begin{bmatrix}a_{11}&a_{12}&\\dots &a_{1n}\\\\a_{21}&a_{22}&\\dots &a_{2n}\\\\\\vdots &\\vdots &\\ddots &\\vdots \\\\a_{n1}&a_{n2}&\\dots &a_{nn}\\end{bmatrix}}}$$\r\n",
        "$A$ - macierz wymiaru nxn\r\n",
        "\r\n",
        "${\\displaystyle \\operatorname {tr} (A)=\\sum _{i=1}^{n}a_{ii}=a_{11}+a_{22}+\\dots +a_{nn}}$\r\n",
        "\r\n",
        "#### Przykład:\r\n",
        "$A = \\begin{bmatrix}2&4\\\\-1&3\\end{bmatrix}$\r\n",
        "\r\n",
        "${\\displaystyle \\operatorname {tr} (A)=\\sum _{i=1}^{2}a_{ii}=a_{11}+a_{22} = 2 + 3 = 5}$"
      ]
    },
    {
      "cell_type": "code",
      "metadata": {
        "colab": {
          "base_uri": "https://localhost:8080/"
        },
        "id": "OpTv5Z3Q0Uev",
        "outputId": "b38367cf-a3a1-4b90-fdd8-66f2627718e2"
      },
      "source": [
        "A = np.array([[2,4], [-1,3]])\r\n",
        "np.trace(A)"
      ],
      "execution_count": 13,
      "outputs": [
        {
          "output_type": "execute_result",
          "data": {
            "text/plain": [
              "5"
            ]
          },
          "metadata": {
            "tags": []
          },
          "execution_count": 13
        }
      ]
    },
    {
      "cell_type": "markdown",
      "metadata": {
        "id": "cqfMBNsG1fjT"
      },
      "source": [
        "###  <a name='a8'></a>  Macierz jednostkowa \r\n",
        "\r\n",
        "Macierz jednostkowa - macierz kwadratowa, której współczynniki podane są wzorem:\r\n",
        "$${\\displaystyle a_{ij}={\\begin{cases}1\\quad {\\text{dla}}\\quad i=j\\\\[2pt]0\\quad {\\text{dla}}\\quad i\\neq j\\end{cases}}}$$\r\n",
        "\r\n",
        "#### Przykłady\r\n",
        "${\\displaystyle I_{1}={\\begin{bmatrix}1\\end{bmatrix}},\\;I_{2}={\\begin{bmatrix}1&0\\\\0&1\\end{bmatrix}},\\;I_{3}={\\begin{bmatrix}1&0&0\\\\0&1&0\\\\0&0&1\\end{bmatrix}}}$"
      ]
    },
    {
      "cell_type": "code",
      "metadata": {
        "colab": {
          "base_uri": "https://localhost:8080/"
        },
        "id": "4u7fdLuw1_d2",
        "outputId": "f86270d5-94dd-49af-e22a-62d8363b8749"
      },
      "source": [
        "np.eye(5, dtype='int')"
      ],
      "execution_count": 14,
      "outputs": [
        {
          "output_type": "execute_result",
          "data": {
            "text/plain": [
              "array([[1, 0, 0, 0, 0],\n",
              "       [0, 1, 0, 0, 0],\n",
              "       [0, 0, 1, 0, 0],\n",
              "       [0, 0, 0, 1, 0],\n",
              "       [0, 0, 0, 0, 1]])"
            ]
          },
          "metadata": {
            "tags": []
          },
          "execution_count": 14
        }
      ]
    },
    {
      "cell_type": "markdown",
      "metadata": {
        "id": "M4NfxdJD1gYC"
      },
      "source": [
        "### <a name='a9'></a>  Macierz odwrotna\r\n",
        "\r\n",
        "$A$ - macierz kwadratowa stopnia $n$. Macierz $A$ posiada macierz odwrotną, gdy istnieje macierz $B$, taka, że\r\n",
        "$$AB = BA = I$$\r\n",
        "\r\n",
        "$A = \\begin{bmatrix}2&4\\\\-1&3\\end{bmatrix}$"
      ]
    },
    {
      "cell_type": "markdown",
      "metadata": {
        "id": "AVVkbGHI1knB"
      },
      "source": [
        "### <a name='a10'></a> Macierz transponowana\r\n",
        "\r\n",
        "Zamiana wierszy na kolumny i kolumny na wiersze.\r\n",
        "\r\n",
        "#### Przykład 1:\r\n",
        "\r\n",
        "$A = \\begin{bmatrix}2&4\\\\-1&3\\end{bmatrix}$,\r\n",
        "$A^{T} = \\begin{bmatrix}2&-1\\\\4&3\\end{bmatrix}$\r\n",
        "\r\n",
        "#### Przykład 2:\r\n",
        "$A = \\begin{bmatrix}2&1&-1\\\\0&-1&2\\end{bmatrix}$,\r\n",
        "$A^{T} = \\begin{bmatrix}2&0\\\\1&-1\\\\-1&2\\end{bmatrix}$"
      ]
    },
    {
      "cell_type": "code",
      "metadata": {
        "colab": {
          "base_uri": "https://localhost:8080/"
        },
        "id": "tt6zDPn52JAz",
        "outputId": "18e364e5-dc80-4e6d-ca64-9e478930603a"
      },
      "source": [
        "B = np.linalg.inv(A)\r\n",
        "B\r\n"
      ],
      "execution_count": 19,
      "outputs": [
        {
          "output_type": "execute_result",
          "data": {
            "text/plain": [
              "array([[1.00000000e+00, 0.00000000e+00],\n",
              "       [2.77555756e-17, 1.00000000e+00]])"
            ]
          },
          "metadata": {
            "tags": []
          },
          "execution_count": 19
        }
      ]
    },
    {
      "cell_type": "code",
      "metadata": {
        "colab": {
          "base_uri": "https://localhost:8080/"
        },
        "id": "rYrGwxgG2hKo",
        "outputId": "7da183fc-08c1-4848-94a5-7a36a2e8dd20"
      },
      "source": [
        "np.set_printoptions(precision=4, suppress=True)\r\n",
        "\r\n",
        "np.dot(A,B)"
      ],
      "execution_count": 21,
      "outputs": [
        {
          "output_type": "execute_result",
          "data": {
            "text/plain": [
              "array([[1., 0.],\n",
              "       [0., 1.]])"
            ]
          },
          "metadata": {
            "tags": []
          },
          "execution_count": 21
        }
      ]
    },
    {
      "cell_type": "code",
      "metadata": {
        "colab": {
          "base_uri": "https://localhost:8080/"
        },
        "id": "yYSWvZAF23ut",
        "outputId": "756e36fa-c23e-413c-d5c7-e8a5b9e39713"
      },
      "source": [
        "np.dot(B,A)"
      ],
      "execution_count": 22,
      "outputs": [
        {
          "output_type": "execute_result",
          "data": {
            "text/plain": [
              "array([[ 1., -0.],\n",
              "       [ 0.,  1.]])"
            ]
          },
          "metadata": {
            "tags": []
          },
          "execution_count": 22
        }
      ]
    },
    {
      "cell_type": "code",
      "metadata": {
        "colab": {
          "base_uri": "https://localhost:8080/"
        },
        "id": "n90H_8m93DOK",
        "outputId": "aaef277c-52f4-46c0-8d70-84ee554ba043"
      },
      "source": [
        "np.transpose(A)"
      ],
      "execution_count": 24,
      "outputs": [
        {
          "output_type": "execute_result",
          "data": {
            "text/plain": [
              "array([[ 2, -1],\n",
              "       [ 4,  3]])"
            ]
          },
          "metadata": {
            "tags": []
          },
          "execution_count": 24
        }
      ]
    },
    {
      "cell_type": "markdown",
      "metadata": {
        "id": "vcti57Ko1nyr"
      },
      "source": [
        "### <a name='a11'></a> Rozwiązywanie układów równań\r\n",
        "Rozważmy układ równań $U$:  \r\n",
        "$${\\displaystyle \\mathrm {U} \\colon {\\begin{cases}{\\begin{matrix}a_{11}x_{1}&+&a_{12}x_{2}&+&\\dots &+&a_{1n}x_{n}&=b_{1},\\\\a_{21}x_{1}&+&a_{22}x_{2}&+&\\dots &+&a_{2n}x_{n}&=b_{2},\\\\\\vdots &&\\vdots &&\\ddots &&\\vdots &\\vdots \\\\a_{m1}x_{1}&+&a_{m2}x_{2}&+&\\dots &+&a_{mn}x_{n}&=b_{m}.\\end{matrix}}\\end{cases}}.}$$\r\n",
        "\r\n",
        "Wykorzystując macierze możemy to przedstawić następująco:\r\n",
        "\r\n",
        "$${\\begin{bmatrix}a_{11}&a_{12}&\\dots &a_{1n}\\\\a_{21}&a_{22}&\\dots &a_{2n}\\\\\\vdots &\\vdots &\\ddots &\\vdots \\\\a_{m1}&a_{m2}&\\dots &a_{mn}\\end{bmatrix}}{\\begin{bmatrix}x_{1}\\\\x_{2}\\\\\\vdots \\\\x_{n}\\end{bmatrix}}={\\begin{bmatrix}b_{1}\\\\b_{2}\\\\\\vdots \\\\b_{m}\\end{bmatrix}}$$\r\n",
        "I w zapisie skrótowym:\r\n",
        "$$\\mathbf {AX} =\\mathbf {B}$$\r\n",
        "\r\n",
        "Gdzie:  \r\n",
        "$A = {\\begin{bmatrix}a_{11}&a_{12}&\\dots &a_{1n}\\\\a_{21}&a_{22}&\\dots &a_{2n}\\\\\\vdots &\\vdots &\\ddots &\\vdots \\\\a_{m1}&a_{m2}&\\dots &a_{mn}\\end{bmatrix}}$ - macierz współczynników\r\n",
        "\r\n",
        "${\\displaystyle \\mathbf {B} =[b_{1},b_{2},\\dots ,b_{m}]} $ - wektor wyrazów wolnych  \r\n",
        "${\\mathbf  X}=[x_{1},x_{2},\\dots ,x_{n}] $ - wektor niewiadomych\r\n",
        "\r\n",
        "Jeśli macierz układu $A$ jest macierzą kwadratową, to oznaczoność układu jest równoważna jej odwracalności, tzn.\r\n",
        "$$\\mathbf {AX} =\\mathbf {B}$$\r\n",
        "$${\\displaystyle \\mathbf {A} ^{-1}\\mathbf {AX} =\\mathbf {A} ^{-1}\\mathbf {B}} $$\r\n",
        "$$\\mathbf {X} =\\mathbf {A} ^{-1}\\mathbf {B} .$$\r\n",
        "\r\n",
        "#### Przykład:\r\n",
        "Rozważmy układ równań:\r\n",
        "$$\\begin{cases}2x + 4y = 10 \\\\ x - y = -1 \\end{cases}$$  \r\n",
        "Rozwiązaniem jest para liczb:\r\n",
        "$$\\begin{cases}x = 1 \\\\ y = 2 \\end{cases}$$  \r\n",
        "\r\n",
        "\r\n",
        "\r\n",
        "\r\n"
      ]
    },
    {
      "cell_type": "code",
      "metadata": {
        "id": "HRqqCvEe4HBq"
      },
      "source": [
        "A = np.array([[2,4], [1,-1]])\r\n",
        "B = np.array([10,-1])\r\n",
        "A_inv = np.linalg.inv(A)"
      ],
      "execution_count": 25,
      "outputs": []
    },
    {
      "cell_type": "code",
      "metadata": {
        "colab": {
          "base_uri": "https://localhost:8080/"
        },
        "id": "z-fGeaDq3M6a",
        "outputId": "756fcf03-20dd-44d3-ad69-079e6704ebf2"
      },
      "source": [
        "X = np.dot(A_inv, B)\r\n",
        "X"
      ],
      "execution_count": 26,
      "outputs": [
        {
          "output_type": "execute_result",
          "data": {
            "text/plain": [
              "array([1., 2.])"
            ]
          },
          "metadata": {
            "tags": []
          },
          "execution_count": 26
        }
      ]
    }
  ]
}