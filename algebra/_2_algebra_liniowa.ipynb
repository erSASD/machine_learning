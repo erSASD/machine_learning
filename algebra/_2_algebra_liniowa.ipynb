{
  "nbformat": 4,
  "nbformat_minor": 0,
  "metadata": {
    "colab": {
      "name": "-2_algebra_liniowa.ipynb",
      "provenance": [],
      "authorship_tag": "ABX9TyOa1EnitEeIshU+iPvj+tLI",
      "include_colab_link": true
    },
    "kernelspec": {
      "name": "python3",
      "display_name": "Python 3"
    }
  },
  "cells": [
    {
      "cell_type": "markdown",
      "metadata": {
        "id": "view-in-github",
        "colab_type": "text"
      },
      "source": [
        "<a href=\"https://colab.research.google.com/github/erSASD/machine_learning/blob/main/algebra/_2_algebra_liniowa.ipynb\" target=\"_parent\"><img src=\"https://colab.research.google.com/assets/colab-badge.svg\" alt=\"Open In Colab\"/></a>"
      ]
    },
    {
      "cell_type": "code",
      "metadata": {
        "id": "PQqE2wodoBAE"
      },
      "source": [
        ""
      ],
      "execution_count": null,
      "outputs": []
    },
    {
      "cell_type": "markdown",
      "metadata": {
        "id": "hdI3SIKKoWF3"
      },
      "source": [
        "### NumPy\r\n",
        ">Strona biblioteki: [https://numpy.org/](https://numpy.org/)  \r\n",
        ">Dokumentacja: [https://numpy.org/doc/](https://numpy.org/doc/)  \r\n",
        ">\r\n",
        ">Podstawowa biblioteka do obliczeń numerycznych w języku Python.\r\n",
        ">\r\n",
        ">Aby zainstalować bibliotekę NumPy, użyj polecenia poniżej:\r\n",
        "```\r\n",
        "pip install numpy\r\n",
        "```\r\n",
        "\r\n",
        "### Spis treści:\r\n",
        "1. [Norma wektora, długość wektora w $R^{2}$](#a1)\r\n",
        "2. [Norma euklidesowa $R^{n}$](#a2)\r\n",
        "3. [Odległóść dwóch punktów na płaszczyźnie](#a3)\r\n",
        "4. [Odległóść dwóch punktów w przestrzeni $R^{n}$](#a4)\r\n",
        "5. [Mnożenie macierzy](#a5)\r\n",
        "6. [Wyznacznik macierzy](#a6)\r\n",
        "7. [Ślad macierzy](#a7)\r\n",
        "8. [Macierz jednostkowa](#a8)\r\n",
        "9. [ Macierz odwrotna](#a9)\r\n",
        "10. [Macierz transponowana](#a10)\r\n",
        "11. [Rozwiązywanie układów równań](#a11)\r\n",
        "\r\n",
        "\r\n",
        "\r\n"
      ]
    },
    {
      "cell_type": "markdown",
      "metadata": {
        "id": "dZlt24FAob9D"
      },
      "source": [
        "### <a name='a1'></a> Norma wektora, długość wektora w $R^{2}$\r\n",
        "\r\n",
        "${\\mathbf  {v}} = [v_{1}, v_{2}]$   \r\n",
        "$\\left\\|{\\mathbf  {v}}\\right\\|={\\sqrt  {v_{1}^{2}+v_{2}^{2}}}$"
      ]
    },
    {
      "cell_type": "code",
      "metadata": {
        "id": "pUkzB7cFojYY"
      },
      "source": [
        ""
      ],
      "execution_count": null,
      "outputs": []
    }
  ]
}