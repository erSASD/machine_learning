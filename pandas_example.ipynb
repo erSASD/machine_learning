{
  "nbformat": 4,
  "nbformat_minor": 0,
  "metadata": {
    "colab": {
      "name": "pandas_example.ipynb",
      "provenance": [],
      "authorship_tag": "ABX9TyMlS0haRmL3fHo+HJrxJoQ1",
      "include_colab_link": true
    },
    "kernelspec": {
      "name": "python3",
      "display_name": "Python 3"
    }
  },
  "cells": [
    {
      "cell_type": "markdown",
      "metadata": {
        "id": "view-in-github",
        "colab_type": "text"
      },
      "source": [
        "<a href=\"https://colab.research.google.com/github/erSASD/machine_learning/blob/main/pandas_example.ipynb\" target=\"_parent\"><img src=\"https://colab.research.google.com/assets/colab-badge.svg\" alt=\"Open In Colab\"/></a>"
      ]
    },
    {
      "cell_type": "markdown",
      "metadata": {
        "id": "D1vRvVaA8ZH_"
      },
      "source": [
        "### Pandas\r\n",
        ">Strona biblioteki: [https://pandas.pydata.org/](https://pandas.pydata.org/)  \r\n",
        ">Dokumentacja: [https://pandas.pydata.org/pandas-docs/stable/](https://pandas.pydata.org/pandas-docs/stable/)\r\n",
        ">\r\n",
        ">Podstawowa biblioteka do analizy danych w języku Python.\r\n",
        ">\r\n",
        ">Aby zainstalować bibliotekę Pandas użyj polecenia poniżej:\r\n",
        "```\r\n",
        "pip install pandas\r\n",
        "```\r\n",
        "### Spis treści:\r\n",
        "1. [Import bibliotek](#a1)\r\n",
        "2. [Załadowanie danych](#a2)\r\n",
        "3. [Zapis/Odczyt danych z pliku CSV](#a3)\r\n",
        "4. [London Bike Dataset](#a4)"
      ]
    },
    {
      "cell_type": "markdown",
      "metadata": {
        "id": "hmUHgN4G8cSv"
      },
      "source": [
        "### <a name='a1'></a> Import bibliotek"
      ]
    },
    {
      "cell_type": "code",
      "metadata": {
        "id": "R0-9NI2l8gzv"
      },
      "source": [
        "import numpy as np\r\n",
        "import pandas as pd"
      ],
      "execution_count": 1,
      "outputs": []
    }
  ]
}